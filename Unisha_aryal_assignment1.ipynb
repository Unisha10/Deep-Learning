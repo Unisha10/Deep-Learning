{
 "cells": [
  {
   "cell_type": "code",
   "execution_count": 51,
   "id": "778444f4",
   "metadata": {},
   "outputs": [],
   "source": [
    "import numpy as np\n",
    "import os\n",
    "import matplotlib.pyplot as plt\n",
    "import seaborn as sns\n",
    "from collections import Counter\n",
    "from nltk.tokenize import word_tokenize\n",
    "import string\n"
   ]
  },
  {
   "cell_type": "code",
   "execution_count": 52,
   "id": "b85f2ae9",
   "metadata": {},
   "outputs": [],
   "source": [
    "data_dir = \"/Users/unishaaryal/downloads/Assignment1_data\" \n",
    "files = os.listdir(data_dir)\n",
    "documents = []"
   ]
  },
  {
   "cell_type": "code",
   "execution_count": 54,
   "id": "af3bcec5",
   "metadata": {},
   "outputs": [],
   "source": [
    "for file in files:\n",
    "    with open(os.path.join(data_dir, file), 'r', encoding='utf-8', errors='ignore') as f:\n",
    "        text = f.read().lower()  # Converting text to lowercase\n",
    "        text = text.translate(str.maketrans('', '', string.punctuation))  # Removing punctuation from the texts\n",
    "        documents.append(text)"
   ]
  },
  {
   "cell_type": "code",
   "execution_count": 55,
   "id": "a8172f66",
   "metadata": {},
   "outputs": [],
   "source": [
    "tokenized_documents = [word_tokenize(doc) for doc in documents]"
   ]
  },
  {
   "cell_type": "code",
   "execution_count": 56,
   "id": "8e7b8921",
   "metadata": {},
   "outputs": [],
   "source": [
    "vocabulary = set()\n",
    "for doc in tokenized_documents:\n",
    "    vocabulary.update(doc)"
   ]
  },
  {
   "cell_type": "code",
   "execution_count": 57,
   "id": "f41c3b8e",
   "metadata": {},
   "outputs": [],
   "source": [
    "M = len(vocabulary)  # M is the size of the vocabulary\n",
    "N = len(documents)   # N is the number of documents\n",
    "A = np.zeros((M, N), dtype=int)"
   ]
  },
  {
   "cell_type": "code",
   "execution_count": 58,
   "id": "f0acbe22",
   "metadata": {},
   "outputs": [],
   "source": [
    "# Populating the matrix A\n",
    "word_to_index = {word: i for i, word in enumerate(vocabulary)}\n",
    "for j, doc in enumerate(tokenized_documents):\n",
    "    word_counts = Counter(doc)\n",
    "    for word, count in word_counts.items():\n",
    "        i = word_to_index[word]\n",
    "        A[i, j] = count"
   ]
  },
  {
   "cell_type": "code",
   "execution_count": 64,
   "id": "7d166a9a",
   "metadata": {},
   "outputs": [
    {
     "name": "stdout",
     "output_type": "stream",
     "text": [
      "Matrix A (M x N):\n",
      "[[0 0 0 ... 0 0 0]\n",
      " [0 0 0 ... 0 0 0]\n",
      " [0 0 0 ... 0 1 0]\n",
      " ...\n",
      " [3 0 0 ... 0 0 0]\n",
      " [0 0 0 ... 0 0 0]\n",
      " [0 0 0 ... 0 0 0]]\n",
      "Matrix A has M = 1168 (vocabulary size) and N = 20 (number of documents).\n"
     ]
    }
   ],
   "source": [
    "print(\"Matrix A (M x N):\")\n",
    "print(A)\n",
    "print(f\"Matrix A has M = {M} (vocabulary size) and N = {N} (number of documents).\")"
   ]
  },
  {
   "cell_type": "code",
   "execution_count": 65,
   "id": "39b1ae69",
   "metadata": {},
   "outputs": [
    {
     "data": {
      "image/png": "[encoded data removed]",
      "text/plain": [
       "<Figure size 1000x600 with 2 Axes>"
      ]
     },
     "metadata": {},
     "output_type": "display_data"
    }
   ],
   "source": [
    "# Visualize the word-document matrix as a heatmap\n",
    "plt.figure(figsize=(10, 6))\n",
    "sns.heatmap(A, cmap=\"YlGnBu\", xticklabels=False, yticklabels=False)\n",
    "plt.title(\"Word-Document Matrix\")\n",
    "plt.xlabel(\"Documents\")\n",
    "plt.ylabel(\"Words\")\n",
    "plt.show()"
   ]
  },
  {
   "cell_type": "code",
   "execution_count": 61,
   "id": "b1251f22",
   "metadata": {},
   "outputs": [],
   "source": [
    "from sklearn.feature_extraction.text import TfidfVectorizer\n",
    "\n",
    "# Create a TfidfVectorizer instance\n",
    "tfidf_vectorizer = TfidfVectorizer()\n",
    "\n",
    "# Fit and transform the documents to compute TF-IDF scores\n",
    "tfidf_matrix = tfidf_vectorizer.fit_transform(documents)\n",
    "\n",
    "# Access the TF-IDF scores\n",
    "tfidf_scores = tfidf_matrix.toarray()"
   ]
  },
  {
   "cell_type": "code",
   "execution_count": 62,
   "id": "08642460",
   "metadata": {},
   "outputs": [
    {
     "name": "stdout",
     "output_type": "stream",
     "text": [
      "Similarity with Document 16: 0.17989037159939436\n",
      "indias demonetized currency may have found its way back into the system but analysts suggest that far from tarnishing prime minister narendra modis image the strategy will ultimately be viewed as a success\n",
      "its important to remember that the demonetization move was intended more as a political move than as an economic one noted new yorkbased south asiafocused eurasia group analyst sasha riserkositsky\n",
      "the drama of demonetization allowed prime minister narendra modi to demonstrate in a very visible way his commitment to fighting corruption and black money\n",
      "\n",
      "earlier this week the annual report from the reserve bank of india rbi the countrys central bank found that a total of 1528 trillion rupees 239 billion worth of cancelled highvalue notes were deposited or exchanged for new money in the 10 months since the strategy was implemented  just one percent shy of the number in circulation before the plans came in\n",
      "\n",
      "Similarity with Document 15: 0.20413416140469207\n",
      "apples next iphone cycle is expected to be one of the biggest yet  but that doesnt necessarily mean the stock will keep soaring according to one of the companys most wellknown followers\n",
      "\n",
      "there could be a 10 percent pullback in apple shares in the next one to three months gene munster told cnbcs power lunch on tuesday\n",
      "the trading history over the past four years is a little bit difficult to look at  just what happens when the products announced to three months after said munster who covered apple for years as a wall street analyst before becoming a managing partner at venture capital firm loup ventures\n",
      "but the biggest runups its had going into a product cycle would suggest typically that you have a tailoff and i would expect the same thing \n",
      "\n",
      "Similarity with Document 13: 0.23956126682027085\n",
      "so first of all i just want to say that in my view the equity analogy is incomplete especially if doing a blockchain or token in the us to be compliant with all regulations you need it to have a utility component and not just use it as a proxy for equities this is not too hard to do as there are so many interesting things you can do with tokenized networks so while i wont be a stickler in every point in this interview for making that distinction its a very important one to keep in mind you want to work with your lawyers to ensure that tokens or blockchainbased assets in general arent equities\n",
      "with that said relative to existing secondary markets in either property like houses or equities the scale of what is happening with the token market is unparalleled its one thing to have a bunch of small secondary markets its quite another to turn the internet itself into a market anyone with an internet connection can purchase a token see shapeshiftio for a great example of this\n",
      "\n"
     ]
    }
   ],
   "source": [
    "from sklearn.metrics.pairwise import cosine_similarity\n",
    "\n",
    "doc_index = documents.index(text) \n",
    "\n",
    "# Calculate cosine similarities\n",
    "similarities = cosine_similarity(tfidf_matrix[doc_index], tfidf_matrix)\n",
    "\n",
    "most_similar_indices = similarities.argsort()[0][-4:-1]\n",
    "\n",
    "# Print the most similar documents\n",
    "for idx in most_similar_indices:\n",
    "    print(f\"Similarity with Document {idx}: {similarities[0][idx]}\")\n",
    "    print(documents[idx])\n",
    "    print()"
   ]
  },
  {
   "cell_type": "code",
   "execution_count": 63,
   "id": "70d53b99",
   "metadata": {},
   "outputs": [
    {
     "name": "stdout",
     "output_type": "stream",
     "text": [
      "Matrix B:\n",
      "[[1661  132  461  164  139  201  186  208  178  154  174  153  123  240\n",
      "   221  192  196  226  164  217]\n",
      " [ 132 1661  353  109  125  127  145  155  130  103  128   93  104  142\n",
      "   161  119  149  167  109  145]\n",
      " [ 461  353 1661  329  368  430  463  529  420  300  352  329  261  388\n",
      "   508  416  535  473  329  462]\n",
      " [ 164  109  329 1661  110  150  190  202  136  136  202  167   90  242\n",
      "   245  174  163  144  347  209]\n",
      " [ 139  125  368  110 1661  130  155  183  124  108  123  114   94  131\n",
      "   174  121  146  147  110  156]\n",
      " [ 201  127  430  150  130 1661  190  201  164  138  165  154  115  199\n",
      "   219  168  186  198  150  214]\n",
      " [ 186  145  463  190  155  190 1661  218  178  145  178  149  116  194\n",
      "   231  177  191  193  190  205]\n",
      " [ 208  155  529  202  183  201  218 1661  203  155  191  162  115  213\n",
      "   270  193  224  208  202  249]\n",
      " [ 178  130  420  136  124  164  178  203 1661  132  157  119  108  160\n",
      "   189  146  171  200  136  185]\n",
      " [ 154  103  300  136  108  138  145  155  132 1661  169  135   97  183\n",
      "   193  130  140  152  136  184]\n",
      " [ 174  128  352  202  123  165  178  191  157  169 1661  208   99  243\n",
      "   247  161  168  175  202  240]\n",
      " [ 153   93  329  167  114  154  149  162  119  135  208 1661   79  202\n",
      "   221  151  161  134  167  212]\n",
      " [ 123  104  261   90   94  115  116  115  108   97   99   79 1661  140\n",
      "   127  103  119  135   90  122]\n",
      " [ 240  142  388  242  131  199  194  213  160  183  243  202  140 1661\n",
      "   285  221  217  176  242  311]\n",
      " [ 221  161  508  245  174  219  231  270  189  193  247  221  127  285\n",
      "  1661  230  238  207  245  292]\n",
      " [ 192  119  416  174  121  168  177  193  146  130  161  151  103  221\n",
      "   230 1661  190  163  174  220]\n",
      " [ 196  149  535  163  146  186  191  224  171  140  168  161  119  217\n",
      "   238  190 1661  194  163  238]\n",
      " [ 226  167  473  144  147  198  193  208  200  152  175  134  135  176\n",
      "   207  163  194 1661  144  199]\n",
      " [ 164  109  329  347  110  150  190  202  136  136  202  167   90  242\n",
      "   245  174  163  144 1661  209]\n",
      " [ 217  145  462  209  156  214  205  249  185  184  240  212  122  311\n",
      "   292  220  238  199  209 1661]]\n"
     ]
    }
   ],
   "source": [
    "# Initializing matrix B with zeros\n",
    "B = np.zeros((N, N), dtype=int)\n",
    "\n",
    "# Calculating the number of common words between each pair of documents\n",
    "for i in range(N):\n",
    "    for j in range(N):\n",
    "        common_words = sum(A[:, i] * A[:, j])\n",
    "        B[i, j] = common_words\n",
    "\n",
    "# Set the diagonal values to the highest value\n",
    "np.fill_diagonal(B, np.max(B))\n",
    "\n",
    "# Print matrix B\n",
    "print(\"Matrix B:\")\n",
    "print(B)\n"
   ]
  },
  {
   "cell_type": "code",
   "execution_count": null,
   "id": "fb82a619",
   "metadata": {},
   "outputs": [],
   "source": []
  },
  {
   "cell_type": "code",
   "execution_count": null,
   "id": "fec18a83",
   "metadata": {},
   "outputs": [],
   "source": []
  },
  {
   "cell_type": "code",
   "execution_count": null,
   "id": "356a2567",
   "metadata": {},
   "outputs": [],
   "source": []
  }
 ],
 "metadata": {
  "kernelspec": {
   "display_name": "Python 3 (ipykernel)",
   "language": "python",
   "name": "python3"
  },
  "language_info": {
   "codemirror_mode": {
    "name": "ipython",
    "version": 3
   },
   "file_extension": ".py",
   "mimetype": "text/x-python",
   "name": "python",
   "nbconvert_exporter": "python",
   "pygments_lexer": "ipython3",
   "version": "3.10.9"
  }
 },
 "nbformat": 4,
 "nbformat_minor": 5
}
