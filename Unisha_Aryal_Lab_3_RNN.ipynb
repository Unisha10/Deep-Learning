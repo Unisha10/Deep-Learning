{
  "cells": [
    {
      "cell_type": "code",
      "execution_count": 3,
      "metadata": {
        "id": "k-vUCtTlyfq7"
      },
      "outputs": [],
      "source": [
        "from numpy import array\n",
        "from keras.models import Sequential\n",
        "from keras.layers import LSTM, GRU\n",
        "from keras.layers import Dense\n",
        "\n",
        "import matplotlib as plt\n",
        "get_ipython().magic(u'matplotlib inline')\n",
        "\n",
        "import datetime as dt, itertools, pandas as pd, matplotlib.pyplot as plt, numpy as np\n"
      ]
    },
    {
      "cell_type": "code",
      "execution_count": 3,
      "metadata": {
        "id": "Qw7mPb7_yfq-"
      },
      "outputs": [],
      "source": []
    },
    {
      "cell_type": "code",
      "execution_count": 4,
      "metadata": {
        "id": "05Mtv36yyfq-"
      },
      "outputs": [],
      "source": [
        "def split_sequence(sequence, n_steps=7, lookahead=0):\n",
        "    X, y = list(), list()\n",
        "    for i in range(lookahead,len(sequence)):\n",
        "        # find the end of this pattern\n",
        "        end_ix = i + n_steps\n",
        "        # check if we are beyond the sequence\n",
        "        if end_ix >= len(sequence):\n",
        "            break\n",
        "        # gather input and output parts of the pattern\n",
        "        seq_x, seq_y = sequence[i-lookahead:end_ix-lookahead], sequence[end_ix]\n",
        "        X.append(seq_x)\n",
        "        y.append(seq_y)\n",
        "    return array(X), array(y)"
      ]
    },
    {
      "cell_type": "markdown",
      "metadata": {
        "id": "nKvrIvqRyfq_"
      },
      "source": [
        "### Data preprocessing"
      ]
    },
    {
      "cell_type": "code",
      "execution_count": 5,
      "metadata": {
        "colab": {
          "base_uri": "https://localhost:8080/",
          "height": 419
        },
        "id": "cF3naHWMyfrD",
        "outputId": "76e2cfd7-812c-442a-be87-bb3f46143dcc"
      },
      "outputs": [
        {
          "output_type": "execute_result",
          "data": {
            "text/plain": [
              "            Date       Price\n",
              "0       1/1/2006  569.865168\n",
              "1       1/2/2006  593.271930\n",
              "2       1/3/2006  606.471193\n",
              "3       1/4/2006  576.932773\n",
              "4       1/5/2006  573.812500\n",
              "...          ...         ...\n",
              "3647  12/27/2015  832.554167\n",
              "3648  12/28/2015  880.513919\n",
              "3649  12/29/2015  856.883910\n",
              "3650  12/30/2015  888.002212\n",
              "3651  12/31/2015  918.498795\n",
              "\n",
              "[3652 rows x 2 columns]"
            ],
            "text/html": [
              "\n",
              "  <div id=\"df-92dd3961-3299-4b07-b1b7-599ac456ae62\" class=\"colab-df-container\">\n",
              "    <div>\n",
              "<style scoped>\n",
              "    .dataframe tbody tr th:only-of-type {\n",
              "        vertical-align: middle;\n",
              "    }\n",
              "\n",
              "    .dataframe tbody tr th {\n",
              "        vertical-align: top;\n",
              "    }\n",
              "\n",
              "    .dataframe thead th {\n",
              "        text-align: right;\n",
              "    }\n",
              "</style>\n",
              "<table border=\"1\" class=\"dataframe\">\n",
              "  <thead>\n",
              "    <tr style=\"text-align: right;\">\n",
              "      <th></th>\n",
              "      <th>Date</th>\n",
              "      <th>Price</th>\n",
              "    </tr>\n",
              "  </thead>\n",
              "  <tbody>\n",
              "    <tr>\n",
              "      <th>0</th>\n",
              "      <td>1/1/2006</td>\n",
              "      <td>569.865168</td>\n",
              "    </tr>\n",
              "    <tr>\n",
              "      <th>1</th>\n",
              "      <td>1/2/2006</td>\n",
              "      <td>593.271930</td>\n",
              "    </tr>\n",
              "    <tr>\n",
              "      <th>2</th>\n",
              "      <td>1/3/2006</td>\n",
              "      <td>606.471193</td>\n",
              "    </tr>\n",
              "    <tr>\n",
              "      <th>3</th>\n",
              "      <td>1/4/2006</td>\n",
              "      <td>576.932773</td>\n",
              "    </tr>\n",
              "    <tr>\n",
              "      <th>4</th>\n",
              "      <td>1/5/2006</td>\n",
              "      <td>573.812500</td>\n",
              "    </tr>\n",
              "    <tr>\n",
              "      <th>...</th>\n",
              "      <td>...</td>\n",
              "      <td>...</td>\n",
              "    </tr>\n",
              "    <tr>\n",
              "      <th>3647</th>\n",
              "      <td>12/27/2015</td>\n",
              "      <td>832.554167</td>\n",
              "    </tr>\n",
              "    <tr>\n",
              "      <th>3648</th>\n",
              "      <td>12/28/2015</td>\n",
              "      <td>880.513919</td>\n",
              "    </tr>\n",
              "    <tr>\n",
              "      <th>3649</th>\n",
              "      <td>12/29/2015</td>\n",
              "      <td>856.883910</td>\n",
              "    </tr>\n",
              "    <tr>\n",
              "      <th>3650</th>\n",
              "      <td>12/30/2015</td>\n",
              "      <td>888.002212</td>\n",
              "    </tr>\n",
              "    <tr>\n",
              "      <th>3651</th>\n",
              "      <td>12/31/2015</td>\n",
              "      <td>918.498795</td>\n",
              "    </tr>\n",
              "  </tbody>\n",
              "</table>\n",
              "<p>3652 rows × 2 columns</p>\n",
              "</div>\n",
              "    <div class=\"colab-df-buttons\">\n",
              "\n",
              "  <div class=\"colab-df-container\">\n",
              "    <button class=\"colab-df-convert\" onclick=\"convertToInteractive('df-92dd3961-3299-4b07-b1b7-599ac456ae62')\"\n",
              "            title=\"Convert this dataframe to an interactive table.\"\n",
              "            style=\"display:none;\">\n",
              "\n",
              "  <svg xmlns=\"http://www.w3.org/2000/svg\" height=\"24px\" viewBox=\"0 -960 960 960\">\n",
              "    <path d=\"M120-120v-720h720v720H120Zm60-500h600v-160H180v160Zm220 220h160v-160H400v160Zm0 220h160v-160H400v160ZM180-400h160v-160H180v160Zm440 0h160v-160H620v160ZM180-180h160v-160H180v160Zm440 0h160v-160H620v160Z\"/>\n",
              "  </svg>\n",
              "    </button>\n",
              "\n",
              "  <style>\n",
              "    .colab-df-container {\n",
              "      display:flex;\n",
              "      gap: 12px;\n",
              "    }\n",
              "\n",
              "    .colab-df-convert {\n",
              "      background-color: #E8F0FE;\n",
              "      border: none;\n",
              "      border-radius: 50%;\n",
              "      cursor: pointer;\n",
              "      display: none;\n",
              "      fill: #1967D2;\n",
              "      height: 32px;\n",
              "      padding: 0 0 0 0;\n",
              "      width: 32px;\n",
              "    }\n",
              "\n",
              "    .colab-df-convert:hover {\n",
              "      background-color: #E2EBFA;\n",
              "      box-shadow: 0px 1px 2px rgba(60, 64, 67, 0.3), 0px 1px 3px 1px rgba(60, 64, 67, 0.15);\n",
              "      fill: #174EA6;\n",
              "    }\n",
              "\n",
              "    .colab-df-buttons div {\n",
              "      margin-bottom: 4px;\n",
              "    }\n",
              "\n",
              "    [theme=dark] .colab-df-convert {\n",
              "      background-color: #3B4455;\n",
              "      fill: #D2E3FC;\n",
              "    }\n",
              "\n",
              "    [theme=dark] .colab-df-convert:hover {\n",
              "      background-color: #434B5C;\n",
              "      box-shadow: 0px 1px 3px 1px rgba(0, 0, 0, 0.15);\n",
              "      filter: drop-shadow(0px 1px 2px rgba(0, 0, 0, 0.3));\n",
              "      fill: #FFFFFF;\n",
              "    }\n",
              "  </style>\n",
              "\n",
              "    <script>\n",
              "      const buttonEl =\n",
              "        document.querySelector('#df-92dd3961-3299-4b07-b1b7-599ac456ae62 button.colab-df-convert');\n",
              "      buttonEl.style.display =\n",
              "        google.colab.kernel.accessAllowed ? 'block' : 'none';\n",
              "\n",
              "      async function convertToInteractive(key) {\n",
              "        const element = document.querySelector('#df-92dd3961-3299-4b07-b1b7-599ac456ae62');\n",
              "        const dataTable =\n",
              "          await google.colab.kernel.invokeFunction('convertToInteractive',\n",
              "                                                    [key], {});\n",
              "        if (!dataTable) return;\n",
              "\n",
              "        const docLinkHtml = 'Like what you see? Visit the ' +\n",
              "          '<a target=\"_blank\" href=https://colab.research.google.com/notebooks/data_table.ipynb>data table notebook</a>'\n",
              "          + ' to learn more about interactive tables.';\n",
              "        element.innerHTML = '';\n",
              "        dataTable['output_type'] = 'display_data';\n",
              "        await google.colab.output.renderOutput(dataTable, element);\n",
              "        const docLink = document.createElement('div');\n",
              "        docLink.innerHTML = docLinkHtml;\n",
              "        element.appendChild(docLink);\n",
              "      }\n",
              "    </script>\n",
              "  </div>\n",
              "\n",
              "\n",
              "<div id=\"df-1a4b6969-1992-4cf4-89aa-56f0cd42327b\">\n",
              "  <button class=\"colab-df-quickchart\" onclick=\"quickchart('df-1a4b6969-1992-4cf4-89aa-56f0cd42327b')\"\n",
              "            title=\"Suggest charts\"\n",
              "            style=\"display:none;\">\n",
              "\n",
              "<svg xmlns=\"http://www.w3.org/2000/svg\" height=\"24px\"viewBox=\"0 0 24 24\"\n",
              "     width=\"24px\">\n",
              "    <g>\n",
              "        <path d=\"M19 3H5c-1.1 0-2 .9-2 2v14c0 1.1.9 2 2 2h14c1.1 0 2-.9 2-2V5c0-1.1-.9-2-2-2zM9 17H7v-7h2v7zm4 0h-2V7h2v10zm4 0h-2v-4h2v4z\"/>\n",
              "    </g>\n",
              "</svg>\n",
              "  </button>\n",
              "\n",
              "<style>\n",
              "  .colab-df-quickchart {\n",
              "      --bg-color: #E8F0FE;\n",
              "      --fill-color: #1967D2;\n",
              "      --hover-bg-color: #E2EBFA;\n",
              "      --hover-fill-color: #174EA6;\n",
              "      --disabled-fill-color: #AAA;\n",
              "      --disabled-bg-color: #DDD;\n",
              "  }\n",
              "\n",
              "  [theme=dark] .colab-df-quickchart {\n",
              "      --bg-color: #3B4455;\n",
              "      --fill-color: #D2E3FC;\n",
              "      --hover-bg-color: #434B5C;\n",
              "      --hover-fill-color: #FFFFFF;\n",
              "      --disabled-bg-color: #3B4455;\n",
              "      --disabled-fill-color: #666;\n",
              "  }\n",
              "\n",
              "  .colab-df-quickchart {\n",
              "    background-color: var(--bg-color);\n",
              "    border: none;\n",
              "    border-radius: 50%;\n",
              "    cursor: pointer;\n",
              "    display: none;\n",
              "    fill: var(--fill-color);\n",
              "    height: 32px;\n",
              "    padding: 0;\n",
              "    width: 32px;\n",
              "  }\n",
              "\n",
              "  .colab-df-quickchart:hover {\n",
              "    background-color: var(--hover-bg-color);\n",
              "    box-shadow: 0 1px 2px rgba(60, 64, 67, 0.3), 0 1px 3px 1px rgba(60, 64, 67, 0.15);\n",
              "    fill: var(--button-hover-fill-color);\n",
              "  }\n",
              "\n",
              "  .colab-df-quickchart-complete:disabled,\n",
              "  .colab-df-quickchart-complete:disabled:hover {\n",
              "    background-color: var(--disabled-bg-color);\n",
              "    fill: var(--disabled-fill-color);\n",
              "    box-shadow: none;\n",
              "  }\n",
              "\n",
              "  .colab-df-spinner {\n",
              "    border: 2px solid var(--fill-color);\n",
              "    border-color: transparent;\n",
              "    border-bottom-color: var(--fill-color);\n",
              "    animation:\n",
              "      spin 1s steps(1) infinite;\n",
              "  }\n",
              "\n",
              "  @keyframes spin {\n",
              "    0% {\n",
              "      border-color: transparent;\n",
              "      border-bottom-color: var(--fill-color);\n",
              "      border-left-color: var(--fill-color);\n",
              "    }\n",
              "    20% {\n",
              "      border-color: transparent;\n",
              "      border-left-color: var(--fill-color);\n",
              "      border-top-color: var(--fill-color);\n",
              "    }\n",
              "    30% {\n",
              "      border-color: transparent;\n",
              "      border-left-color: var(--fill-color);\n",
              "      border-top-color: var(--fill-color);\n",
              "      border-right-color: var(--fill-color);\n",
              "    }\n",
              "    40% {\n",
              "      border-color: transparent;\n",
              "      border-right-color: var(--fill-color);\n",
              "      border-top-color: var(--fill-color);\n",
              "    }\n",
              "    60% {\n",
              "      border-color: transparent;\n",
              "      border-right-color: var(--fill-color);\n",
              "    }\n",
              "    80% {\n",
              "      border-color: transparent;\n",
              "      border-right-color: var(--fill-color);\n",
              "      border-bottom-color: var(--fill-color);\n",
              "    }\n",
              "    90% {\n",
              "      border-color: transparent;\n",
              "      border-bottom-color: var(--fill-color);\n",
              "    }\n",
              "  }\n",
              "</style>\n",
              "\n",
              "  <script>\n",
              "    async function quickchart(key) {\n",
              "      const quickchartButtonEl =\n",
              "        document.querySelector('#' + key + ' button');\n",
              "      quickchartButtonEl.disabled = true;  // To prevent multiple clicks.\n",
              "      quickchartButtonEl.classList.add('colab-df-spinner');\n",
              "      try {\n",
              "        const charts = await google.colab.kernel.invokeFunction(\n",
              "            'suggestCharts', [key], {});\n",
              "      } catch (error) {\n",
              "        console.error('Error during call to suggestCharts:', error);\n",
              "      }\n",
              "      quickchartButtonEl.classList.remove('colab-df-spinner');\n",
              "      quickchartButtonEl.classList.add('colab-df-quickchart-complete');\n",
              "    }\n",
              "    (() => {\n",
              "      let quickchartButtonEl =\n",
              "        document.querySelector('#df-1a4b6969-1992-4cf4-89aa-56f0cd42327b button');\n",
              "      quickchartButtonEl.style.display =\n",
              "        google.colab.kernel.accessAllowed ? 'block' : 'none';\n",
              "    })();\n",
              "  </script>\n",
              "</div>\n",
              "    </div>\n",
              "  </div>\n"
            ]
          },
          "metadata": {},
          "execution_count": 5
        }
      ],
      "source": [
        "tsdataframe = pd.read_csv('timeseries_lab3.csv')\n",
        "tsdataframe"
      ]
    },
    {
      "cell_type": "code",
      "execution_count": 6,
      "metadata": {
        "id": "h80JWRXhyfrE"
      },
      "outputs": [],
      "source": [
        "tsdata = np.load('timeseries_lab3.npy')"
      ]
    },
    {
      "cell_type": "code",
      "execution_count": 7,
      "metadata": {
        "colab": {
          "base_uri": "https://localhost:8080/"
        },
        "id": "bwhYMrF-yfrE",
        "outputId": "f4a17748-9695-447a-9bcd-38b6ade9fe18"
      },
      "outputs": [
        {
          "output_type": "execute_result",
          "data": {
            "text/plain": [
              "array([569.86516854, 593.27192983, 606.47119342, ..., 856.88391039,\n",
              "       888.00221239, 918.49879518])"
            ]
          },
          "metadata": {},
          "execution_count": 7
        }
      ],
      "source": [
        "tsdata"
      ]
    },
    {
      "cell_type": "code",
      "execution_count": 8,
      "metadata": {
        "colab": {
          "base_uri": "https://localhost:8080/",
          "height": 447
        },
        "id": "jrdYLBtwyfrE",
        "outputId": "e94b5134-1519-477d-ada0-499bd06088cd"
      },
      "outputs": [
        {
          "output_type": "execute_result",
          "data": {
            "text/plain": [
              "[<matplotlib.lines.Line2D at 0x7b1b0e4fcd90>]"
            ]
          },
          "metadata": {},
          "execution_count": 8
        },
        {
          "output_type": "display_data",
          "data": {
            "text/plain": [
              "<Figure size 640x480 with 1 Axes>"
            ],
            "image/png": "[encoded data removed]"
          },
          "metadata": {}
        }
      ],
      "source": [
        "plt.plot(tsdata)"
      ]
    },
    {
      "cell_type": "code",
      "execution_count": 9,
      "metadata": {
        "id": "xQPN5Xr1yfrE"
      },
      "outputs": [],
      "source": [
        "n_steps=7\n",
        "n_features = 1\n",
        "train_size = 2557"
      ]
    },
    {
      "cell_type": "code",
      "execution_count": 10,
      "metadata": {
        "id": "ZK-h75UPyfrE"
      },
      "outputs": [],
      "source": [
        "X, y = split_sequence(tsdata,n_steps)"
      ]
    },
    {
      "cell_type": "code",
      "execution_count": 11,
      "metadata": {
        "colab": {
          "base_uri": "https://localhost:8080/"
        },
        "id": "mkNoisC2yfrF",
        "outputId": "d1b1815a-9e78-4452-cbec-b1894c6b1613"
      },
      "outputs": [
        {
          "output_type": "execute_result",
          "data": {
            "text/plain": [
              "array([[569.86516854, 593.27192983, 606.47119342, ..., 573.8125    ,\n",
              "        576.17699115, 548.16748768],\n",
              "       [593.27192983, 606.47119342, 576.93277311, ..., 576.17699115,\n",
              "        548.16748768, 528.13043478],\n",
              "       [606.47119342, 576.93277311, 573.8125    , ..., 548.16748768,\n",
              "        528.13043478, 543.19517544],\n",
              "       ...,\n",
              "       [876.92110454, 923.34583333, 807.89142857, ..., 865.42385787,\n",
              "        832.55416667, 880.51391863],\n",
              "       [923.34583333, 807.89142857, 753.03703704, ..., 832.55416667,\n",
              "        880.51391863, 856.88391039],\n",
              "       [807.89142857, 753.03703704, 865.42385787, ..., 880.51391863,\n",
              "        856.88391039, 888.00221239]])"
            ]
          },
          "metadata": {},
          "execution_count": 11
        }
      ],
      "source": [
        "X"
      ]
    },
    {
      "cell_type": "code",
      "execution_count": 12,
      "metadata": {
        "id": "xMSqhKofyfrF"
      },
      "outputs": [],
      "source": [
        "#tsdata[:15]"
      ]
    },
    {
      "cell_type": "code",
      "execution_count": 13,
      "metadata": {
        "id": "fc5tPntxyfrF"
      },
      "outputs": [],
      "source": [
        "#X[:10]"
      ]
    },
    {
      "cell_type": "code",
      "execution_count": 14,
      "metadata": {
        "id": "Xr5sG-bFyfrF"
      },
      "outputs": [],
      "source": [
        "#y[:4]"
      ]
    },
    {
      "cell_type": "code",
      "execution_count": 15,
      "metadata": {
        "id": "ZZX8EaM2yfrF"
      },
      "outputs": [],
      "source": [
        "X = X.reshape((X.shape[0], X.shape[1], n_features))\n",
        "trainX = X[:train_size]\n",
        "trainy = y[:train_size]\n",
        "testX = X[train_size:]\n",
        "testy = y[train_size:]"
      ]
    },
    {
      "cell_type": "code",
      "execution_count": 16,
      "metadata": {
        "id": "TGY_Pk9FyfrG"
      },
      "outputs": [],
      "source": [
        "#trainX"
      ]
    },
    {
      "cell_type": "markdown",
      "metadata": {
        "id": "3NkV4fJiyfrG"
      },
      "source": [
        "### LSTM model for time series prediction"
      ]
    },
    {
      "cell_type": "code",
      "execution_count": 17,
      "metadata": {
        "colab": {
          "base_uri": "https://localhost:8080/"
        },
        "id": "iPlqCTcxyfrG",
        "outputId": "6d286d0a-2df5-4036-fa15-f4cf41195825"
      },
      "outputs": [
        {
          "output_type": "stream",
          "name": "stderr",
          "text": [
            "WARNING:tensorflow:Layer lstm will not use cuDNN kernels since it doesn't meet the criteria. It will use a generic GPU kernel as fallback when running on GPU.\n"
          ]
        }
      ],
      "source": [
        "model = Sequential()\n",
        "model.add(LSTM(50, activation='relu', input_shape=(n_steps, n_features)))\n",
        "model.add(Dense(1))\n",
        "model.compile(optimizer='adam', loss='mse')"
      ]
    },
    {
      "cell_type": "code",
      "execution_count": 18,
      "metadata": {
        "colab": {
          "base_uri": "https://localhost:8080/"
        },
        "id": "evhwRV5AyfrG",
        "outputId": "3859b598-eedc-4c09-e6ac-743363a0f28e"
      },
      "outputs": [
        {
          "output_type": "stream",
          "name": "stdout",
          "text": [
            "Epoch 1/20\n",
            "80/80 [==============================] - 7s 13ms/step - loss: 111261.5000\n",
            "Epoch 2/20\n",
            "80/80 [==============================] - 1s 13ms/step - loss: 827.8722\n",
            "Epoch 3/20\n",
            "80/80 [==============================] - 1s 13ms/step - loss: 797.5995\n",
            "Epoch 4/20\n",
            "80/80 [==============================] - 1s 13ms/step - loss: 803.0634\n",
            "Epoch 5/20\n",
            "80/80 [==============================] - 1s 13ms/step - loss: 776.7015\n",
            "Epoch 6/20\n",
            "80/80 [==============================] - 1s 13ms/step - loss: 748.6005\n",
            "Epoch 7/20\n",
            "80/80 [==============================] - 1s 12ms/step - loss: 729.2396\n",
            "Epoch 8/20\n",
            "80/80 [==============================] - 1s 18ms/step - loss: 716.4100\n",
            "Epoch 9/20\n",
            "80/80 [==============================] - 2s 26ms/step - loss: 715.1473\n",
            "Epoch 10/20\n",
            "80/80 [==============================] - 2s 19ms/step - loss: 698.3608\n",
            "Epoch 11/20\n",
            "80/80 [==============================] - 1s 13ms/step - loss: 683.7850\n",
            "Epoch 12/20\n",
            "80/80 [==============================] - 1s 13ms/step - loss: 680.7894\n",
            "Epoch 13/20\n",
            "80/80 [==============================] - 1s 12ms/step - loss: 727.3011\n",
            "Epoch 14/20\n",
            "80/80 [==============================] - 1s 12ms/step - loss: 681.0868\n",
            "Epoch 15/20\n",
            "80/80 [==============================] - 1s 13ms/step - loss: 717.0565\n",
            "Epoch 16/20\n",
            "80/80 [==============================] - 1s 13ms/step - loss: 689.1545\n",
            "Epoch 17/20\n",
            "80/80 [==============================] - 1s 13ms/step - loss: 721.7200\n",
            "Epoch 18/20\n",
            "80/80 [==============================] - 1s 13ms/step - loss: 737.5161\n",
            "Epoch 19/20\n",
            "80/80 [==============================] - 1s 13ms/step - loss: 746.6415\n",
            "Epoch 20/20\n",
            "80/80 [==============================] - 2s 27ms/step - loss: 736.4097\n"
          ]
        },
        {
          "output_type": "execute_result",
          "data": {
            "text/plain": [
              "<keras.src.callbacks.History at 0x7b1b013b71c0>"
            ]
          },
          "metadata": {},
          "execution_count": 18
        }
      ],
      "source": [
        "model.fit(trainX, trainy, epochs=20, verbose=1)"
      ]
    },
    {
      "cell_type": "markdown",
      "metadata": {
        "id": "Y0oExySryfrG"
      },
      "source": [
        "### Prediction (test set)"
      ]
    },
    {
      "cell_type": "code",
      "execution_count": 19,
      "metadata": {
        "id": "hhsdRObwyfrH"
      },
      "outputs": [],
      "source": [
        "yhat = model.predict(testX, verbose=0)"
      ]
    },
    {
      "cell_type": "code",
      "execution_count": 20,
      "metadata": {
        "id": "A0zZDYrFyfrH"
      },
      "outputs": [],
      "source": [
        "pred = []\n",
        "for i in range(yhat.shape[0]):\n",
        "    pred.append(yhat[i])\n",
        "pred = np.array(pred)"
      ]
    },
    {
      "cell_type": "code",
      "execution_count": 21,
      "metadata": {
        "colab": {
          "base_uri": "https://localhost:8080/",
          "height": 466
        },
        "id": "Y4FTNbKNyfrH",
        "outputId": "9efa0685-31ea-4a18-e7b8-6df3390f204a"
      },
      "outputs": [
        {
          "output_type": "execute_result",
          "data": {
            "text/plain": [
              "Text(0.5, 0, 'Days')"
            ]
          },
          "metadata": {},
          "execution_count": 21
        },
        {
          "output_type": "display_data",
          "data": {
            "text/plain": [
              "<Figure size 640x480 with 1 Axes>"
            ],
            "image/png": "[encoded data removed]"
          },
          "metadata": {}
        }
      ],
      "source": [
        "plt.plot(range(len(tsdata)),tsdata,label='True')\n",
        "plt.plot(range(len(tsdata)-len(testy),len(tsdata)),pred,label='Predicted')\n",
        "plt.legend(loc='upper left')\n",
        "plt.xlabel('Days')\n",
        "\n"
      ]
    },
    {
      "cell_type": "markdown",
      "metadata": {
        "id": "BeoTNN1pyfrH"
      },
      "source": [
        "## Lab 4: Language Model"
      ]
    },
    {
      "cell_type": "markdown",
      "metadata": {
        "id": "FVCpzoz4yfrH"
      },
      "source": [
        "<b>Problem statement:</b> Use the following dataset containing element names to train a language model. Generate new names using the trained model. The generated names should resemble element names, e.g. ends with '-ium'"
      ]
    },
    {
      "cell_type": "markdown",
      "metadata": {
        "id": "GdVXcdnDyfrH"
      },
      "source": [
        "### Data"
      ]
    },
    {
      "cell_type": "code",
      "source": [
        "data = open('/content/elements.txt', 'r').read()\n",
        "data= data.lower()\n",
        "chars = list(set('\\n'.join(data)))\n",
        "data_size, vocab_size = len(data), len(chars)\n",
        "char_to_index = { ch:i for i,ch in enumerate(chars) }\n",
        "index_to_char = { i:ch for i,ch in enumerate(chars) }\n",
        "char_to_index[' '] = len(chars)\n",
        "data_size, vocab_size = len(data), len(chars)"
      ],
      "metadata": {
        "id": "WWOmum3yzF90"
      },
      "execution_count": 25,
      "outputs": []
    },
    {
      "cell_type": "code",
      "execution_count": 26,
      "metadata": {
        "colab": {
          "base_uri": "https://localhost:8080/",
          "height": 154
        },
        "id": "g9G2kWlwyfrI",
        "outputId": "61ea6717-6b00-4a4f-d8b1-70161ca7b07d"
      },
      "outputs": [
        {
          "output_type": "execute_result",
          "data": {
            "text/plain": [
              "'hydrogen\\nhelium\\nlithium\\nberyllium\\nboron\\ncarbon\\nnitrogen\\noxygen\\nfluorine\\nneon\\nsodium\\nmagnesium\\naluminium\\nsilicon\\nphosphorus\\nsulfur\\nchlorine\\nargon\\npotassium\\ncalcium\\nscandium\\ntitanium\\nvanadium\\nchromium\\nmanganese\\niron\\ncobalt\\nnickel\\ncopper\\nzinc\\ngallium\\ngermanium\\narsenic\\nselenium\\nbromine\\nkrypton\\nrubidium\\nstrontium\\nyttrium\\nzirconium\\nniobium\\nmolybdenum\\ntechnetium\\nruthenium\\nrhodium\\npalladium\\nsilver\\ncadmium\\nindium\\ntin\\nantimony\\ntellurium\\niodine\\nxenon\\ncesium\\nbarium\\nlanthanum\\ncerium\\npraseodymium\\nneodymium\\npromethium\\nsamarium\\neuropium\\ngadolinium\\nterbium\\ndysprosium\\nholmium\\nerbium\\nthulium\\nytterbium\\nlutetium\\nhafnium\\ntantalum\\ntungsten\\nrhenium\\nosmium\\niridium\\nplatinum\\ngold\\nmercury\\nthallium\\nlead\\nbismuth\\npolonium\\nastatine\\nradon\\nfrancium\\nradium\\nactinium\\nthorium\\nprotactinium\\nuranium\\nneptunium\\nplutonium\\namericium\\ncurium\\nberkelium\\ncalifornium\\neinsteinium\\nfermium\\nmendelevium\\nnobelium\\nlawrencium\\nrutherfordium\\ndubnium\\nseaborgium\\nbohrium\\nhassium\\nmeitnerium\\ndarmstadtium\\nroentgenium\\ncopernicium\\nnihonium\\nflerovium\\nmoscovium\\nlivermorium\\ntennessine\\noganesson'"
            ],
            "application/vnd.google.colaboratory.intrinsic+json": {
              "type": "string"
            }
          },
          "metadata": {},
          "execution_count": 26
        }
      ],
      "source": [
        "data"
      ]
    },
    {
      "cell_type": "markdown",
      "metadata": {
        "id": "GcoW0g8XyfrI"
      },
      "source": [
        "### Model Architecture"
      ]
    },
    {
      "cell_type": "markdown",
      "source": [
        "![rnn_langmod.png](data:image/png;base64,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)"
      ],
      "metadata": {
        "id": "MuKhWHK4sejp"
      }
    },
    {
      "cell_type": "code",
      "source": [
        "import tensorflow as tf\n",
        "import numpy as np"
      ],
      "metadata": {
        "id": "mPpSeQustnE3"
      },
      "execution_count": 27,
      "outputs": []
    },
    {
      "cell_type": "code",
      "source": [
        "# Read and preprocess the dataset\n",
        "with open('/content/elements.txt') as file:\n",
        "    raw_text = file.read().split()\n",
        "\n",
        "unique_chars = sorted(set(''.join(raw_text)))\n",
        "\n",
        "char_to_index = {char: idx for idx, char in enumerate(unique_chars)}\n",
        "index_to_char = {idx: char for idx, char in enumerate(unique_chars)}\n",
        "encoded_text = [char_to_index[char] for char in ''.join(raw_text)]\n",
        "\n",
        "sequence_length = 10\n",
        "sequences = []\n",
        "for i in range(len(encoded_text) - sequence_length):\n",
        "    sequences.append(encoded_text[i:i + sequence_length])\n",
        "\n",
        "X = np.array(sequences)\n",
        "y = tf.keras.utils.to_categorical(X[:, -1], num_classes=len(unique_chars))\n",
        "X = X[:, :-1]"
      ],
      "metadata": {
        "id": "FRoBJQ0MtnHp"
      },
      "execution_count": 28,
      "outputs": []
    },
    {
      "cell_type": "code",
      "source": [
        "# Define the model architecture\n",
        "model = tf.keras.Sequential([\n",
        "    tf.keras.layers.Embedding(input_dim=len(unique_chars), output_dim=128, input_length=sequence_length-1),\n",
        "    tf.keras.layers.LSTM(128, return_sequences=True),\n",
        "    tf.keras.layers.Dropout(0.30),\n",
        "    tf.keras.layers.LSTM(128),\n",
        "    tf.keras.layers.Dropout(0.45),\n",
        "    tf.keras.layers.Dense(128, activation='relu'),\n",
        "    tf.keras.layers.Dense(len(unique_chars), activation='softmax')\n",
        "])\n",
        "\n",
        "model.compile(loss='categorical_crossentropy', optimizer='adam')\n",
        "model.fit(X, y, epochs=120, verbose=1)\n"
      ],
      "metadata": {
        "colab": {
          "base_uri": "https://localhost:8080/"
        },
        "id": "HTHru_EutnKH",
        "outputId": "26e9485a-f6d7-45c6-c702-771d66b5c410"
      },
      "execution_count": 29,
      "outputs": [
        {
          "output_type": "stream",
          "name": "stdout",
          "text": [
            "Epoch 1/120\n",
            "29/29 [==============================] - 7s 22ms/step - loss: 3.0237\n",
            "Epoch 2/120\n",
            "29/29 [==============================] - 0s 13ms/step - loss: 2.8198\n",
            "Epoch 3/120\n",
            "29/29 [==============================] - 0s 13ms/step - loss: 2.7841\n",
            "Epoch 4/120\n",
            "29/29 [==============================] - 0s 8ms/step - loss: 2.7827\n",
            "Epoch 5/120\n",
            "29/29 [==============================] - 0s 6ms/step - loss: 2.7845\n",
            "Epoch 6/120\n",
            "29/29 [==============================] - 0s 7ms/step - loss: 2.7540\n",
            "Epoch 7/120\n",
            "29/29 [==============================] - 0s 7ms/step - loss: 2.6553\n",
            "Epoch 8/120\n",
            "29/29 [==============================] - 0s 7ms/step - loss: 2.5293\n",
            "Epoch 9/120\n",
            "29/29 [==============================] - 0s 7ms/step - loss: 2.4249\n",
            "Epoch 10/120\n",
            "29/29 [==============================] - 0s 10ms/step - loss: 2.3661\n",
            "Epoch 11/120\n",
            "29/29 [==============================] - 0s 7ms/step - loss: 2.3409\n",
            "Epoch 12/120\n",
            "29/29 [==============================] - 0s 7ms/step - loss: 2.3165\n",
            "Epoch 13/120\n",
            "29/29 [==============================] - 0s 7ms/step - loss: 2.2952\n",
            "Epoch 14/120\n",
            "29/29 [==============================] - 0s 7ms/step - loss: 2.2800\n",
            "Epoch 15/120\n",
            "29/29 [==============================] - 0s 7ms/step - loss: 2.2583\n",
            "Epoch 16/120\n",
            "29/29 [==============================] - 0s 6ms/step - loss: 2.2445\n",
            "Epoch 17/120\n",
            "29/29 [==============================] - 0s 6ms/step - loss: 2.2300\n",
            "Epoch 18/120\n",
            "29/29 [==============================] - 0s 8ms/step - loss: 2.1998\n",
            "Epoch 19/120\n",
            "29/29 [==============================] - 0s 6ms/step - loss: 2.1769\n",
            "Epoch 20/120\n",
            "29/29 [==============================] - 0s 6ms/step - loss: 2.1552\n",
            "Epoch 21/120\n",
            "29/29 [==============================] - 0s 7ms/step - loss: 2.1284\n",
            "Epoch 22/120\n",
            "29/29 [==============================] - 0s 7ms/step - loss: 2.0776\n",
            "Epoch 23/120\n",
            "29/29 [==============================] - 0s 7ms/step - loss: 2.0358\n",
            "Epoch 24/120\n",
            "29/29 [==============================] - 0s 7ms/step - loss: 1.9822\n",
            "Epoch 25/120\n",
            "29/29 [==============================] - 0s 6ms/step - loss: 1.9790\n",
            "Epoch 26/120\n",
            "29/29 [==============================] - 0s 6ms/step - loss: 1.8923\n",
            "Epoch 27/120\n",
            "29/29 [==============================] - 0s 6ms/step - loss: 1.8663\n",
            "Epoch 28/120\n",
            "29/29 [==============================] - 0s 7ms/step - loss: 1.8456\n",
            "Epoch 29/120\n",
            "29/29 [==============================] - 0s 6ms/step - loss: 1.7801\n",
            "Epoch 30/120\n",
            "29/29 [==============================] - 0s 7ms/step - loss: 1.7395\n",
            "Epoch 31/120\n",
            "29/29 [==============================] - 0s 6ms/step - loss: 1.7002\n",
            "Epoch 32/120\n",
            "29/29 [==============================] - 0s 6ms/step - loss: 1.6519\n",
            "Epoch 33/120\n",
            "29/29 [==============================] - 0s 7ms/step - loss: 1.6136\n",
            "Epoch 34/120\n",
            "29/29 [==============================] - 0s 7ms/step - loss: 1.5309\n",
            "Epoch 35/120\n",
            "29/29 [==============================] - 0s 6ms/step - loss: 1.5032\n",
            "Epoch 36/120\n",
            "29/29 [==============================] - 0s 6ms/step - loss: 1.4249\n",
            "Epoch 37/120\n",
            "29/29 [==============================] - 0s 6ms/step - loss: 1.3800\n",
            "Epoch 38/120\n",
            "29/29 [==============================] - 0s 7ms/step - loss: 1.3434\n",
            "Epoch 39/120\n",
            "29/29 [==============================] - 0s 7ms/step - loss: 1.3319\n",
            "Epoch 40/120\n",
            "29/29 [==============================] - 0s 6ms/step - loss: 1.2742\n",
            "Epoch 41/120\n",
            "29/29 [==============================] - 0s 6ms/step - loss: 1.2438\n",
            "Epoch 42/120\n",
            "29/29 [==============================] - 0s 6ms/step - loss: 1.2119\n",
            "Epoch 43/120\n",
            "29/29 [==============================] - 0s 7ms/step - loss: 1.1140\n",
            "Epoch 44/120\n",
            "29/29 [==============================] - 0s 7ms/step - loss: 1.0650\n",
            "Epoch 45/120\n",
            "29/29 [==============================] - 0s 7ms/step - loss: 1.0439\n",
            "Epoch 46/120\n",
            "29/29 [==============================] - 0s 6ms/step - loss: 0.9682\n",
            "Epoch 47/120\n",
            "29/29 [==============================] - 0s 7ms/step - loss: 0.9299\n",
            "Epoch 48/120\n",
            "29/29 [==============================] - 0s 7ms/step - loss: 0.8764\n",
            "Epoch 49/120\n",
            "29/29 [==============================] - 0s 7ms/step - loss: 0.8113\n",
            "Epoch 50/120\n",
            "29/29 [==============================] - 0s 7ms/step - loss: 0.7774\n",
            "Epoch 51/120\n",
            "29/29 [==============================] - 0s 6ms/step - loss: 0.7957\n",
            "Epoch 52/120\n",
            "29/29 [==============================] - 0s 6ms/step - loss: 0.7253\n",
            "Epoch 53/120\n",
            "29/29 [==============================] - 0s 6ms/step - loss: 0.6687\n",
            "Epoch 54/120\n",
            "29/29 [==============================] - 0s 7ms/step - loss: 0.6068\n",
            "Epoch 55/120\n",
            "29/29 [==============================] - 0s 9ms/step - loss: 0.6268\n",
            "Epoch 56/120\n",
            "29/29 [==============================] - 0s 9ms/step - loss: 0.5766\n",
            "Epoch 57/120\n",
            "29/29 [==============================] - 0s 8ms/step - loss: 0.5551\n",
            "Epoch 58/120\n",
            "29/29 [==============================] - 0s 8ms/step - loss: 0.5645\n",
            "Epoch 59/120\n",
            "29/29 [==============================] - 0s 9ms/step - loss: 0.4934\n",
            "Epoch 60/120\n",
            "29/29 [==============================] - 0s 8ms/step - loss: 0.4955\n",
            "Epoch 61/120\n",
            "29/29 [==============================] - 0s 9ms/step - loss: 0.4592\n",
            "Epoch 62/120\n",
            "29/29 [==============================] - 0s 9ms/step - loss: 0.4210\n",
            "Epoch 63/120\n",
            "29/29 [==============================] - 0s 9ms/step - loss: 0.4146\n",
            "Epoch 64/120\n",
            "29/29 [==============================] - 0s 9ms/step - loss: 0.3940\n",
            "Epoch 65/120\n",
            "29/29 [==============================] - 0s 9ms/step - loss: 0.3389\n",
            "Epoch 66/120\n",
            "29/29 [==============================] - 0s 9ms/step - loss: 0.3524\n",
            "Epoch 67/120\n",
            "29/29 [==============================] - 0s 9ms/step - loss: 0.3278\n",
            "Epoch 68/120\n",
            "29/29 [==============================] - 0s 9ms/step - loss: 0.2984\n",
            "Epoch 69/120\n",
            "29/29 [==============================] - 0s 7ms/step - loss: 0.2951\n",
            "Epoch 70/120\n",
            "29/29 [==============================] - 0s 6ms/step - loss: 0.3224\n",
            "Epoch 71/120\n",
            "29/29 [==============================] - 0s 7ms/step - loss: 0.2876\n",
            "Epoch 72/120\n",
            "29/29 [==============================] - 0s 7ms/step - loss: 0.2672\n",
            "Epoch 73/120\n",
            "29/29 [==============================] - 0s 6ms/step - loss: 0.2664\n",
            "Epoch 74/120\n",
            "29/29 [==============================] - 0s 7ms/step - loss: 0.2398\n",
            "Epoch 75/120\n",
            "29/29 [==============================] - 0s 6ms/step - loss: 0.2540\n",
            "Epoch 76/120\n",
            "29/29 [==============================] - 0s 6ms/step - loss: 0.2136\n",
            "Epoch 77/120\n",
            "29/29 [==============================] - 0s 6ms/step - loss: 0.2013\n",
            "Epoch 78/120\n",
            "29/29 [==============================] - 0s 6ms/step - loss: 0.1870\n",
            "Epoch 79/120\n",
            "29/29 [==============================] - 0s 6ms/step - loss: 0.2011\n",
            "Epoch 80/120\n",
            "29/29 [==============================] - 0s 6ms/step - loss: 0.1668\n",
            "Epoch 81/120\n",
            "29/29 [==============================] - 0s 6ms/step - loss: 0.1806\n",
            "Epoch 82/120\n",
            "29/29 [==============================] - 0s 7ms/step - loss: 0.1520\n",
            "Epoch 83/120\n",
            "29/29 [==============================] - 0s 7ms/step - loss: 0.1521\n",
            "Epoch 84/120\n",
            "29/29 [==============================] - 0s 7ms/step - loss: 0.1405\n",
            "Epoch 85/120\n",
            "29/29 [==============================] - 0s 6ms/step - loss: 0.1590\n",
            "Epoch 86/120\n",
            "29/29 [==============================] - 0s 6ms/step - loss: 0.1585\n",
            "Epoch 87/120\n",
            "29/29 [==============================] - 0s 7ms/step - loss: 0.1639\n",
            "Epoch 88/120\n",
            "29/29 [==============================] - 0s 7ms/step - loss: 0.1838\n",
            "Epoch 89/120\n",
            "29/29 [==============================] - 0s 7ms/step - loss: 0.1432\n",
            "Epoch 90/120\n",
            "29/29 [==============================] - 0s 7ms/step - loss: 0.1223\n",
            "Epoch 91/120\n",
            "29/29 [==============================] - 0s 7ms/step - loss: 0.1272\n",
            "Epoch 92/120\n",
            "29/29 [==============================] - 0s 7ms/step - loss: 0.1159\n",
            "Epoch 93/120\n",
            "29/29 [==============================] - 0s 7ms/step - loss: 0.1250\n",
            "Epoch 94/120\n",
            "29/29 [==============================] - 0s 7ms/step - loss: 0.0868\n",
            "Epoch 95/120\n",
            "29/29 [==============================] - 0s 7ms/step - loss: 0.0912\n",
            "Epoch 96/120\n",
            "29/29 [==============================] - 0s 7ms/step - loss: 0.0936\n",
            "Epoch 97/120\n",
            "29/29 [==============================] - 0s 7ms/step - loss: 0.1209\n",
            "Epoch 98/120\n",
            "29/29 [==============================] - 0s 7ms/step - loss: 0.1058\n",
            "Epoch 99/120\n",
            "29/29 [==============================] - 0s 6ms/step - loss: 0.1187\n",
            "Epoch 100/120\n",
            "29/29 [==============================] - 0s 6ms/step - loss: 0.1161\n",
            "Epoch 101/120\n",
            "29/29 [==============================] - 0s 6ms/step - loss: 0.1043\n",
            "Epoch 102/120\n",
            "29/29 [==============================] - 0s 7ms/step - loss: 0.1112\n",
            "Epoch 103/120\n",
            "29/29 [==============================] - 0s 6ms/step - loss: 0.0917\n",
            "Epoch 104/120\n",
            "29/29 [==============================] - 0s 6ms/step - loss: 0.0669\n",
            "Epoch 105/120\n",
            "29/29 [==============================] - 0s 6ms/step - loss: 0.0964\n",
            "Epoch 106/120\n",
            "29/29 [==============================] - 0s 6ms/step - loss: 0.0933\n",
            "Epoch 107/120\n",
            "29/29 [==============================] - 0s 7ms/step - loss: 0.1008\n",
            "Epoch 108/120\n",
            "29/29 [==============================] - 0s 10ms/step - loss: 0.1078\n",
            "Epoch 109/120\n",
            "29/29 [==============================] - 0s 10ms/step - loss: 0.0925\n",
            "Epoch 110/120\n",
            "29/29 [==============================] - 0s 7ms/step - loss: 0.0947\n",
            "Epoch 111/120\n",
            "29/29 [==============================] - 0s 7ms/step - loss: 0.0712\n",
            "Epoch 112/120\n",
            "29/29 [==============================] - 0s 7ms/step - loss: 0.0743\n",
            "Epoch 113/120\n",
            "29/29 [==============================] - 0s 7ms/step - loss: 0.0736\n",
            "Epoch 114/120\n",
            "29/29 [==============================] - 0s 7ms/step - loss: 0.0557\n",
            "Epoch 115/120\n",
            "29/29 [==============================] - 0s 6ms/step - loss: 0.0591\n",
            "Epoch 116/120\n",
            "29/29 [==============================] - 0s 7ms/step - loss: 0.0444\n",
            "Epoch 117/120\n",
            "29/29 [==============================] - 0s 7ms/step - loss: 0.0750\n",
            "Epoch 118/120\n",
            "29/29 [==============================] - 0s 11ms/step - loss: 0.0597\n",
            "Epoch 119/120\n",
            "29/29 [==============================] - 1s 21ms/step - loss: 0.0530\n",
            "Epoch 120/120\n",
            "29/29 [==============================] - 0s 14ms/step - loss: 0.0520\n"
          ]
        },
        {
          "output_type": "execute_result",
          "data": {
            "text/plain": [
              "<keras.src.callbacks.History at 0x7b1ae7fda8c0>"
            ]
          },
          "metadata": {},
          "execution_count": 29
        }
      ]
    },
    {
      "cell_type": "code",
      "source": [
        "# Generate words ending with 'ium'\n",
        "generated_words = []\n",
        "while len(generated_words) < 10:\n",
        "    start = np.random.randint(0, len(encoded_text) - sequence_length)\n",
        "    seq = encoded_text[start:start + sequence_length - 1]\n",
        "    generated_text = ''.join([index_to_char[i] for i in seq])\n",
        "\n",
        "    for i in range(20):\n",
        "        x = np.array([seq])\n",
        "        y_pred = model.predict(x)[0]\n",
        "        next_char = index_to_char[np.argmax(y_pred)]\n",
        "        generated_text += next_char\n",
        "        seq = seq[1:] + [char_to_index[next_char]]\n",
        "\n",
        "        if generated_text.endswith('ium'):\n",
        "            generated_words.append(generated_text)\n",
        "            break\n"
      ],
      "metadata": {
        "colab": {
          "base_uri": "https://localhost:8080/"
        },
        "id": "50iyclpFtnNC",
        "outputId": "adc15494-467a-4907-d744-d7360227ac1a"
      },
      "execution_count": 31,
      "outputs": [
        {
          "output_type": "stream",
          "name": "stdout",
          "text": [
            "1/1 [==============================] - 0s 123ms/step\n",
            "1/1 [==============================] - 0s 92ms/step\n",
            "1/1 [==============================] - 0s 83ms/step\n",
            "1/1 [==============================] - 0s 55ms/step\n",
            "1/1 [==============================] - 0s 57ms/step\n",
            "1/1 [==============================] - 0s 57ms/step\n",
            "1/1 [==============================] - 0s 34ms/step\n",
            "1/1 [==============================] - 0s 32ms/step\n",
            "1/1 [==============================] - 0s 26ms/step\n",
            "1/1 [==============================] - 0s 26ms/step\n",
            "1/1 [==============================] - 0s 25ms/step\n",
            "1/1 [==============================] - 0s 26ms/step\n",
            "1/1 [==============================] - 0s 29ms/step\n",
            "1/1 [==============================] - 0s 28ms/step\n",
            "1/1 [==============================] - 0s 25ms/step\n",
            "1/1 [==============================] - 0s 33ms/step\n",
            "1/1 [==============================] - 0s 32ms/step\n",
            "1/1 [==============================] - 0s 27ms/step\n",
            "1/1 [==============================] - 0s 33ms/step\n",
            "1/1 [==============================] - 0s 25ms/step\n",
            "1/1 [==============================] - 0s 25ms/step\n",
            "1/1 [==============================] - 0s 29ms/step\n",
            "1/1 [==============================] - 0s 25ms/step\n",
            "1/1 [==============================] - 0s 29ms/step\n",
            "1/1 [==============================] - 0s 26ms/step\n",
            "1/1 [==============================] - 0s 18ms/step\n",
            "1/1 [==============================] - 0s 17ms/step\n",
            "1/1 [==============================] - 0s 18ms/step\n",
            "1/1 [==============================] - 0s 18ms/step\n",
            "1/1 [==============================] - 0s 19ms/step\n",
            "1/1 [==============================] - 0s 20ms/step\n",
            "1/1 [==============================] - 0s 17ms/step\n",
            "1/1 [==============================] - 0s 21ms/step\n",
            "1/1 [==============================] - 0s 19ms/step\n",
            "1/1 [==============================] - 0s 17ms/step\n",
            "1/1 [==============================] - 0s 17ms/step\n",
            "1/1 [==============================] - 0s 18ms/step\n",
            "1/1 [==============================] - 0s 18ms/step\n",
            "1/1 [==============================] - 0s 26ms/step\n",
            "1/1 [==============================] - 0s 17ms/step\n",
            "1/1 [==============================] - 0s 19ms/step\n",
            "1/1 [==============================] - 0s 18ms/step\n",
            "1/1 [==============================] - 0s 17ms/step\n",
            "1/1 [==============================] - 0s 18ms/step\n",
            "1/1 [==============================] - 0s 19ms/step\n",
            "1/1 [==============================] - 0s 20ms/step\n",
            "1/1 [==============================] - 0s 18ms/step\n",
            "1/1 [==============================] - 0s 20ms/step\n",
            "1/1 [==============================] - 0s 17ms/step\n",
            "1/1 [==============================] - 0s 17ms/step\n",
            "1/1 [==============================] - 0s 17ms/step\n",
            "1/1 [==============================] - 0s 17ms/step\n",
            "1/1 [==============================] - 0s 18ms/step\n",
            "1/1 [==============================] - 0s 18ms/step\n",
            "1/1 [==============================] - 0s 20ms/step\n",
            "1/1 [==============================] - 0s 19ms/step\n",
            "1/1 [==============================] - 0s 24ms/step\n",
            "1/1 [==============================] - 0s 24ms/step\n",
            "1/1 [==============================] - 0s 17ms/step\n",
            "1/1 [==============================] - 0s 19ms/step\n",
            "1/1 [==============================] - 0s 19ms/step\n",
            "1/1 [==============================] - 0s 18ms/step\n",
            "1/1 [==============================] - 0s 20ms/step\n",
            "1/1 [==============================] - 0s 17ms/step\n",
            "1/1 [==============================] - 0s 18ms/step\n",
            "1/1 [==============================] - 0s 20ms/step\n",
            "1/1 [==============================] - 0s 20ms/step\n",
            "1/1 [==============================] - 0s 18ms/step\n",
            "1/1 [==============================] - 0s 20ms/step\n",
            "1/1 [==============================] - 0s 17ms/step\n",
            "1/1 [==============================] - 0s 17ms/step\n",
            "1/1 [==============================] - 0s 21ms/step\n",
            "1/1 [==============================] - 0s 18ms/step\n",
            "1/1 [==============================] - 0s 20ms/step\n",
            "1/1 [==============================] - 0s 21ms/step\n",
            "1/1 [==============================] - 0s 18ms/step\n",
            "1/1 [==============================] - 0s 27ms/step\n",
            "1/1 [==============================] - 0s 19ms/step\n",
            "1/1 [==============================] - 0s 21ms/step\n"
          ]
        }
      ]
    },
    {
      "cell_type": "code",
      "source": [
        "print(generated_words)"
      ],
      "metadata": {
        "colab": {
          "base_uri": "https://localhost:8080/"
        },
        "id": "ajUzZWHPtnPu",
        "outputId": "daf97a42-bd82-45a0-bec6-1527562b94f6"
      },
      "execution_count": 32,
      "outputs": [
        {
          "output_type": "stream",
          "name": "stdout",
          "text": [
            "['mlithiumberyllium', 'iummeitnerium', 'lmiumerbium', 'umrhodiumpalladium', 'admiumindium', 'keliumcalifornium', 'tiniumuranium', 'niumseaborgium', 'enheliumlithium', 'alumtungstenrhenium']\n"
          ]
        }
      ]
    },
    {
      "cell_type": "code",
      "source": [],
      "metadata": {
        "id": "ai_xdrQktnjT"
      },
      "execution_count": null,
      "outputs": []
    }
  ],
  "metadata": {
    "kernelspec": {
      "display_name": "Python 3",
      "name": "python3"
    },
    "language_info": {
      "codemirror_mode": {
        "name": "ipython",
        "version": 3
      },
      "file_extension": ".py",
      "mimetype": "text/x-python",
      "name": "python",
      "nbconvert_exporter": "python",
      "pygments_lexer": "ipython3",
      "version": "3.7.6"
    },
    "colab": {
      "provenance": [],
      "gpuType": "T4"
    },
    "accelerator": "GPU"
  },
  "nbformat": 4,
  "nbformat_minor": 0
}